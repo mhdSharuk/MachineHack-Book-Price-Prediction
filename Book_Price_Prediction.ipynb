{
  "nbformat": 4,
  "nbformat_minor": 0,
  "metadata": {
    "colab": {
      "name": "Book_Price_Prediction",
      "provenance": []
    },
    "kernelspec": {
      "name": "python3",
      "display_name": "Python 3"
    }
  },
  "cells": [
    {
      "cell_type": "code",
      "metadata": {
        "id": "4WS-EHqkrNXO",
        "colab_type": "code",
        "colab": {
          "base_uri": "https://localhost:8080/",
          "height": 221
        },
        "outputId": "e848b88a-006a-4873-f344-049d2418e5b8"
      },
      "source": [
        "!wget https://www.machinehack.com/wp-content/uploads/2019/09/Participants_Data-20190926T094854Z-001.zip"
      ],
      "execution_count": 5,
      "outputs": [
        {
          "output_type": "stream",
          "text": [
            "--2019-10-03 13:03:09--  https://www.machinehack.com/wp-content/uploads/2019/09/Participants_Data-20190926T094854Z-001.zip\n",
            "Resolving www.machinehack.com (www.machinehack.com)... 107.180.71.20\n",
            "Connecting to www.machinehack.com (www.machinehack.com)|107.180.71.20|:443... connected.\n",
            "HTTP request sent, awaiting response... 200 OK\n",
            "Length: 3521673 (3.4M) [application/zip]\n",
            "Saving to: ‘Participants_Data-20190926T094854Z-001.zip’\n",
            "\n",
            "Participants_Data-2 100%[===================>]   3.36M  1.24MB/s    in 2.7s    \n",
            "\n",
            "2019-10-03 13:03:13 (1.24 MB/s) - ‘Participants_Data-20190926T094854Z-001.zip’ saved [3521673/3521673]\n",
            "\n"
          ],
          "name": "stdout"
        }
      ]
    },
    {
      "cell_type": "code",
      "metadata": {
        "id": "V8rUWQj7t43p",
        "colab_type": "code",
        "colab": {
          "base_uri": "https://localhost:8080/",
          "height": 84
        },
        "outputId": "2cdec461-8422-42c7-cb1e-34ef665b4c2c"
      },
      "source": [
        "!unzip /content/Participants_Data-20190926T094854Z-001.zip"
      ],
      "execution_count": 6,
      "outputs": [
        {
          "output_type": "stream",
          "text": [
            "Archive:  /content/Participants_Data-20190926T094854Z-001.zip\n",
            "  inflating: Participants_Data/Data_Test.xlsx  \n",
            "  inflating: Participants_Data/Data_Train.xlsx  \n",
            "  inflating: Participants_Data/Sample_Submission.xlsx  \n"
          ],
          "name": "stdout"
        }
      ]
    },
    {
      "cell_type": "code",
      "metadata": {
        "id": "6vQ_teyZt-1p",
        "colab_type": "code",
        "colab": {}
      },
      "source": [
        "import pandas as pd\n",
        "import numpy as np\n",
        "import matplotlib.pyplot as plt\n",
        "import seaborn as sns\n",
        "from sklearn.feature_extraction.text import CountVectorizer\n",
        "from sklearn.feature_extraction.text import TfidfVectorizer\n",
        "from sklearn.preprocessing import LabelEncoder\n",
        "from sklearn.model_selection import KFold, TimeSeriesSplit\n",
        "from sklearn.model_selection import train_test_split\n",
        "from sklearn.metrics import accuracy_score\n",
        "import lightgbm as lgb\n",
        "import xgboost as xgb\n",
        "import gc\n",
        "%matplotlib inline"
      ],
      "execution_count": 0,
      "outputs": []
    },
    {
      "cell_type": "code",
      "metadata": {
        "id": "u2uuZg4RuCPm",
        "colab_type": "code",
        "colab": {}
      },
      "source": [
        "train = pd.read_excel('Participants_Data/Data_Train.xlsx')\n",
        "test = pd.read_excel('Participants_Data/Data_Test.xlsx')\n",
        "sub = pd.read_excel('Participants_Data/Sample_Submission.xlsx')"
      ],
      "execution_count": 0,
      "outputs": []
    },
    {
      "cell_type": "code",
      "metadata": {
        "id": "fAPw_zE82mw1",
        "colab_type": "code",
        "colab": {
          "base_uri": "https://localhost:8080/",
          "height": 277
        },
        "outputId": "e9c6015a-d2bf-48fb-f16c-818f1be43309"
      },
      "source": [
        "train.head(2)"
      ],
      "execution_count": 142,
      "outputs": [
        {
          "output_type": "execute_result",
          "data": {
            "text/html": [
              "<div>\n",
              "<style scoped>\n",
              "    .dataframe tbody tr th:only-of-type {\n",
              "        vertical-align: middle;\n",
              "    }\n",
              "\n",
              "    .dataframe tbody tr th {\n",
              "        vertical-align: top;\n",
              "    }\n",
              "\n",
              "    .dataframe thead th {\n",
              "        text-align: right;\n",
              "    }\n",
              "</style>\n",
              "<table border=\"1\" class=\"dataframe\">\n",
              "  <thead>\n",
              "    <tr style=\"text-align: right;\">\n",
              "      <th></th>\n",
              "      <th>Title</th>\n",
              "      <th>Author</th>\n",
              "      <th>Edition</th>\n",
              "      <th>Reviews</th>\n",
              "      <th>Ratings</th>\n",
              "      <th>Synopsis</th>\n",
              "      <th>Genre</th>\n",
              "      <th>BookCategory</th>\n",
              "      <th>Price</th>\n",
              "      <th>Ratings_int</th>\n",
              "      <th>Reviews_int</th>\n",
              "      <th>ratio_of_review</th>\n",
              "      <th>Released_year</th>\n",
              "      <th>Reviews_Ratings</th>\n",
              "    </tr>\n",
              "  </thead>\n",
              "  <tbody>\n",
              "    <tr>\n",
              "      <th>0</th>\n",
              "      <td>The Prisoner's Gold (The Hunters 3)</td>\n",
              "      <td>Chris Kuzneski</td>\n",
              "      <td>Paperback,– 10 Mar 2016</td>\n",
              "      <td>4.0 out of 5 stars</td>\n",
              "      <td>8 customer reviews</td>\n",
              "      <td>THE HUNTERS return in their third brilliant no...</td>\n",
              "      <td>Action &amp; Adventure (Books)</td>\n",
              "      <td>Action &amp; Adventure</td>\n",
              "      <td>220.00</td>\n",
              "      <td>8</td>\n",
              "      <td>4.0</td>\n",
              "      <td>0.80</td>\n",
              "      <td>2016</td>\n",
              "      <td>32.0</td>\n",
              "    </tr>\n",
              "    <tr>\n",
              "      <th>1</th>\n",
              "      <td>Guru Dutt: A Tragedy in Three Acts</td>\n",
              "      <td>Arun Khopkar</td>\n",
              "      <td>Paperback,– 7 Nov 2012</td>\n",
              "      <td>3.9 out of 5 stars</td>\n",
              "      <td>14 customer reviews</td>\n",
              "      <td>A layered portrait of a troubled genius for wh...</td>\n",
              "      <td>Cinema &amp; Broadcast (Books)</td>\n",
              "      <td>Biographies, Diaries &amp; True Accounts</td>\n",
              "      <td>202.93</td>\n",
              "      <td>14</td>\n",
              "      <td>3.9</td>\n",
              "      <td>0.78</td>\n",
              "      <td>2012</td>\n",
              "      <td>54.6</td>\n",
              "    </tr>\n",
              "  </tbody>\n",
              "</table>\n",
              "</div>"
            ],
            "text/plain": [
              "                                 Title  ... Reviews_Ratings\n",
              "0  The Prisoner's Gold (The Hunters 3)  ...            32.0\n",
              "1   Guru Dutt: A Tragedy in Three Acts  ...            54.6\n",
              "\n",
              "[2 rows x 14 columns]"
            ]
          },
          "metadata": {
            "tags": []
          },
          "execution_count": 142
        }
      ]
    },
    {
      "cell_type": "code",
      "metadata": {
        "id": "lgK4ZelTDzvk",
        "colab_type": "code",
        "colab": {}
      },
      "source": [
        "for df in [train,test]:\n",
        "  df.pop('Reviews')\n",
        "  df.pop('Ratings')"
      ],
      "execution_count": 0,
      "outputs": []
    },
    {
      "cell_type": "code",
      "metadata": {
        "id": "34Y2XQ-lCaYG",
        "colab_type": "code",
        "colab": {}
      },
      "source": [
        "for df in [train,test]:\n",
        "  df['Ratings_int'] = df['Ratings_int'].map(lambda x:x.split(','))\n",
        "  df['Ratings_int'] = df['Ratings_int'].map(lambda x:''.join(x))\n",
        "  df['Ratings_int'] = df['Ratings_int'].astype(int)\n",
        "  df['Reviews_Ratings'] = df['Reviews_int']*df['Ratings_int']"
      ],
      "execution_count": 0,
      "outputs": []
    },
    {
      "cell_type": "code",
      "metadata": {
        "id": "i2Nk0ytF8n3s",
        "colab_type": "code",
        "colab": {}
      },
      "source": [
        "for df in [train,test]:\n",
        "  df['Released_year'] = df['Edition'].map(lambda x:x.split(' ')[-1])"
      ],
      "execution_count": 0,
      "outputs": []
    },
    {
      "cell_type": "code",
      "metadata": {
        "id": "1dwJQPzC3Dh-",
        "colab_type": "code",
        "colab": {}
      },
      "source": [
        "for df in [train,test]:\n",
        "  df['Synopsis'] = TfidfVectorizer().fit_transform(df['Synopsis'])"
      ],
      "execution_count": 0,
      "outputs": []
    },
    {
      "cell_type": "code",
      "metadata": {
        "id": "ARCQvsamxcKg",
        "colab_type": "code",
        "colab": {}
      },
      "source": [
        "for df in [train,test]:\n",
        "  df['Reviews_int'] = df['Reviews'].map(lambda x:x.split(' ')[0])"
      ],
      "execution_count": 0,
      "outputs": []
    },
    {
      "cell_type": "code",
      "metadata": {
        "id": "D9B3iZ_hy7e_",
        "colab_type": "code",
        "colab": {}
      },
      "source": [
        "for df in [train,test]:\n",
        "  df['Reviews_int'] = df['Reviews_int'].astype(float)\n",
        "  df['ratio_of_review'] = df['Reviews_int']/5"
      ],
      "execution_count": 0,
      "outputs": []
    },
    {
      "cell_type": "code",
      "metadata": {
        "colab_type": "code",
        "id": "kH3_fWPMyeTr",
        "colab": {}
      },
      "source": [
        "for df in [train,test]:\n",
        "  df['Ratings_int'] = df['Ratings'].map(lambda x:x.split(' ')[0])"
      ],
      "execution_count": 0,
      "outputs": []
    },
    {
      "cell_type": "code",
      "metadata": {
        "id": "et_Y-nWsEwZP",
        "colab_type": "code",
        "colab": {}
      },
      "source": [
        "le = LabelEncoder()"
      ],
      "execution_count": 0,
      "outputs": []
    },
    {
      "cell_type": "code",
      "metadata": {
        "id": "I7tDB4vyyhjT",
        "colab_type": "code",
        "colab": {}
      },
      "source": [
        "for c in test.columns:\n",
        "  for df in [train,test]:\n",
        "    if df[c].dtype == 'object':\n",
        "      df[c] = le.fit_transform(df[c])"
      ],
      "execution_count": 0,
      "outputs": []
    },
    {
      "cell_type": "code",
      "metadata": {
        "id": "UUUOssM4FRat",
        "colab_type": "code",
        "colab": {}
      },
      "source": [
        "x = train.drop('Price',axis=1)\n",
        "y = train['Price']"
      ],
      "execution_count": 0,
      "outputs": []
    },
    {
      "cell_type": "code",
      "metadata": {
        "id": "SODjvT5OFsTw",
        "colab_type": "code",
        "colab": {}
      },
      "source": [
        "x_train,x_test,y_train,y_test = train_test_split(x,y,test_size=0.01)"
      ],
      "execution_count": 0,
      "outputs": []
    },
    {
      "cell_type": "code",
      "metadata": {
        "id": "YPjzuPAVGYfJ",
        "colab_type": "code",
        "colab": {}
      },
      "source": [
        "folds = KFold(n_splits=5)\n",
        "\n",
        "lgb_fold_pred = 0\n",
        "lgb_val_pred = 0\n",
        "\n",
        "lr = 0.835\n",
        "step = 0.6985\n",
        "\n",
        "#validation_data = lgb.Dataset(validation_x,label=validation_y)\n",
        "\n",
        "for fold, (trn_idx, test_idx) in enumerate(folds.split(x_train)):\n",
        "    print('========================================================================')\n",
        "    print('Training on fold {}'.format(fold + 1))\n",
        "    \n",
        "    trn_data = lgb.Dataset(x_train.iloc[trn_idx], label=y_train.iloc[trn_idx])\n",
        "    \n",
        "    val_data = lgb.Dataset(x_train.iloc[test_idx], label=y_train.iloc[test_idx])\n",
        "    \n",
        "    params = {\n",
        "            'min_data_in_leaf': 280, \n",
        "            'num_leaves': 430, \n",
        "            'learning_rate': lr,\n",
        "            'min_child_weight': 0.0227696,\n",
        "            'bagging_fraction': 0.625789, \n",
        "            'feature_fraction': 0.47,\n",
        "            'reg_lambda': 0.72,\n",
        "            'reg_alpha': 0.46,\n",
        "            'max_depth': -1, \n",
        "            'objective': 'regression',\n",
        "            'seed': 59,\n",
        "            'tree_learner':'serial',\n",
        "            'feature_fraction_seed': 42,\n",
        "            'n_jobs':-1,\n",
        "            'bagging_seed': 42,\n",
        "            'drop_seed': 49,\n",
        "            'data_random_seed': 42,\n",
        "            'boosting_type': 'goss',\n",
        "            'verbose': 1,\n",
        "            'metric':'rmse',\n",
        "            'od_wait':500,\n",
        "            }\n",
        "        \n",
        "    clf = lgb.train(params, trn_data, 10000, valid_sets = [trn_data, val_data], verbose_eval=200, early_stopping_rounds=50)\n",
        "    \n",
        "    lgb_fold_pred += clf.predict(test)\n",
        "    lgb_val_pred += clf.predict(x_test)\n",
        "    \n",
        "    lr = lr * step**((fold/5))\n",
        "    step = -1*step*np.log(0.8)\n",
        "    \n",
        "    del trn_data,val_data\n",
        "    gc.collect()\n",
        "    \n",
        "lgb_val_pred /= 5\n",
        "lgb_fold_pred /= 5"
      ],
      "execution_count": 0,
      "outputs": []
    },
    {
      "cell_type": "code",
      "metadata": {
        "id": "QNXOM4Z2GmT3",
        "colab_type": "code",
        "colab": {
          "base_uri": "https://localhost:8080/",
          "height": 284
        },
        "outputId": "7e512bc9-b507-4246-add4-8a9c2ec776b2"
      },
      "source": [
        "lgb_val_pred"
      ],
      "execution_count": 176,
      "outputs": [
        {
          "output_type": "execute_result",
          "data": {
            "text/plain": [
              "array([505.71042438, 424.58776232, 599.7508568 , 350.17152488,\n",
              "       439.93935817, 471.38513627, 772.15070301, 426.04908698,\n",
              "       488.28402158, 430.6081608 , 693.74020701, 484.44426437,\n",
              "       743.17184835, 570.9561335 , 469.42347335, 552.72952224,\n",
              "       610.28776849, 576.22799353, 482.39062387, 551.13190586,\n",
              "       422.13507696, 636.02349483, 702.13489604, 406.6469155 ,\n",
              "       440.84303513, 904.72217525, 423.19155114, 417.65489838,\n",
              "       336.87816956, 560.55657203, 455.80440219, 646.94500758,\n",
              "       466.558947  , 499.63942832, 531.94677759, 644.09588777,\n",
              "       607.42435126, 438.80459107, 445.55880524, 558.47870557,\n",
              "       482.02252217, 724.47929156, 735.5620427 , 581.50298668,\n",
              "       594.88920627, 670.03407031, 579.47669796, 435.13669546,\n",
              "       393.00395024, 456.01050621, 415.55505847, 567.48939739,\n",
              "       453.49336163, 661.39081245, 660.35060109, 416.63853811,\n",
              "       783.84264276, 641.22347201, 454.14804868, 724.13336922,\n",
              "       418.58028973, 472.83679355, 423.07864558])"
            ]
          },
          "metadata": {
            "tags": []
          },
          "execution_count": 176
        }
      ]
    },
    {
      "cell_type": "code",
      "metadata": {
        "id": "a-zkj104HS-V",
        "colab_type": "code",
        "colab": {}
      },
      "source": [
        "sub['Price'] = lgb_fold_pred\n",
        "sub.to_excel('book_prediction.xlsx',index=False)"
      ],
      "execution_count": 0,
      "outputs": []
    },
    {
      "cell_type": "code",
      "metadata": {
        "id": "CI4R7pONJF2C",
        "colab_type": "code",
        "colab": {}
      },
      "source": [
        ""
      ],
      "execution_count": 0,
      "outputs": []
    }
  ]
}